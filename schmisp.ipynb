{
 "cells": [
  {
   "cell_type": "markdown",
   "metadata": {},
   "source": [
    "# Step 0\n",
    "## The REPL"
   ]
  },
  {
   "cell_type": "code",
   "execution_count": 1,
   "metadata": {},
   "outputs": [],
   "source": [
    "def READ(program:str) -> str:\n",
    "    read_str(program)\n",
    "    return program"
   ]
  },
  {
   "cell_type": "code",
   "execution_count": 2,
   "metadata": {},
   "outputs": [],
   "source": [
    "def EVAL(line:str) -> str:\n",
    "    return line"
   ]
  },
  {
   "cell_type": "code",
   "execution_count": 111,
   "metadata": {},
   "outputs": [],
   "source": [
    "def PRINT(line:str):\n",
    "    pr_str(line)"
   ]
  },
  {
   "cell_type": "code",
   "execution_count": 4,
   "metadata": {},
   "outputs": [],
   "source": [
    "def rep(program):\n",
    "    PRINT(EVAL(READ(program)))"
   ]
  },
  {
   "cell_type": "markdown",
   "metadata": {},
   "source": [
    "#### Tests"
   ]
  },
  {
   "cell_type": "code",
   "execution_count": 5,
   "metadata": {},
   "outputs": [
    {
     "name": "stdout",
     "output_type": "stream",
     "text": [
      ";=>%\n"
     ]
    }
   ],
   "source": [
    "rep(';=>%')"
   ]
  },
  {
   "cell_type": "markdown",
   "metadata": {},
   "source": [
    "# Step 1"
   ]
  },
  {
   "cell_type": "code",
   "execution_count": 58,
   "metadata": {},
   "outputs": [],
   "source": [
    "# Mal types?\n",
    "\n",
    "Symbol = str          \n",
    "List   = list         \n",
    "Number = (int, float)"
   ]
  },
  {
   "cell_type": "markdown",
   "metadata": {},
   "source": [
    "#### Test"
   ]
  },
  {
   "cell_type": "code",
   "execution_count": 59,
   "metadata": {},
   "outputs": [
    {
     "ename": "TypeError",
     "evalue": "'tuple' object is not callable",
     "output_type": "error",
     "traceback": [
      "\u001b[0;31m-----------------------------------------------------------------------\u001b[0m",
      "\u001b[0;31mTypeError\u001b[0m                             Traceback (most recent call last)",
      "\u001b[0;32m<ipython-input-59-b75449d9c832>\u001b[0m in \u001b[0;36m<module>\u001b[0;34m\u001b[0m\n\u001b[0;32m----> 1\u001b[0;31m \u001b[0mdgg\u001b[0m \u001b[0;34m=\u001b[0m \u001b[0mNumber\u001b[0m\u001b[0;34m(\u001b[0m\u001b[0;36m9\u001b[0m\u001b[0;34m)\u001b[0m\u001b[0;34m\u001b[0m\u001b[0;34m\u001b[0m\u001b[0m\n\u001b[0m\u001b[1;32m      2\u001b[0m \u001b[0mtype\u001b[0m\u001b[0;34m(\u001b[0m\u001b[0mdgg\u001b[0m\u001b[0;34m)\u001b[0m\u001b[0;34m\u001b[0m\u001b[0;34m\u001b[0m\u001b[0m\n",
      "\u001b[0;31mTypeError\u001b[0m: 'tuple' object is not callable"
     ]
    }
   ],
   "source": [
    "dgg = Number(9)\n",
    "type(dgg)"
   ]
  },
  {
   "cell_type": "code",
   "execution_count": 80,
   "metadata": {},
   "outputs": [],
   "source": [
    "def read_str(program):\n",
    "    t = tokenize(program)\n",
    "    r = Reader(t)\n",
    "    l = read_form(r)\n",
    "    return l"
   ]
  },
  {
   "cell_type": "code",
   "execution_count": 61,
   "metadata": {},
   "outputs": [],
   "source": [
    "class Reader:\n",
    "    def __init__(self, tokens):\n",
    "        self.tokens = tokens\n",
    "        self.position = 0\n",
    "        self.length = len(tokens)\n",
    "    def nex(self):\n",
    "        return current_token\n",
    "    def peek(self):\n",
    "        current_token = self.tokens[self.position]\n",
    "        return current_token"
   ]
  },
  {
   "cell_type": "code",
   "execution_count": 62,
   "metadata": {},
   "outputs": [],
   "source": [
    "import re\n",
    "\n",
    "r = r'''[\\s,]*(~@|[\\[\\]{}()'`~^@]|\"(?:\\\\.|[^\\\\\"])*\"|;.*|[^\\s\\[\\]{}('\"`,;)]*)'''\n",
    "\n",
    "def tokenize(program:str) -> list:\n",
    "    tkns = re.split(r, program)\n",
    "    tkns_list = []\n",
    "    for t in tkns:\n",
    "        if t != '':\n",
    "            tkns_list.append(t) ### ESTO ESTA MAL\n",
    "    return tkns_list"
   ]
  },
  {
   "cell_type": "markdown",
   "metadata": {},
   "source": [
    "#### Tests"
   ]
  },
  {
   "cell_type": "code",
   "execution_count": 63,
   "metadata": {},
   "outputs": [
    {
     "data": {
      "text/plain": [
       "['(', '+', '2', '(', '*', '3', '4', ')', ')']"
      ]
     },
     "execution_count": 63,
     "metadata": {},
     "output_type": "execute_result"
    }
   ],
   "source": [
    "t = tokenize('( + 2 (* 3 4))')\n",
    "\n",
    "t"
   ]
  },
  {
   "cell_type": "markdown",
   "metadata": {},
   "source": [
    "tokenize\n",
    "\n",
    "    [\\s,]*: Matches any number of whitespaces or commas. This is not captured so it will be ignored and not tokenized. --- ANDA PERO ESTA MAL\n",
    "\n",
    "    ~@: Captures the special two-characters ~@ (tokenized). ---- ANDA\n",
    "\n",
    "    [\\[\\]{}()'`~^@]: Captures any special single character, one of []{}()'`~^@ (tokenized). ---- NO ANDA LOS PONE TODOS JUNTOS\n",
    "\n",
    "    \"(?:\\\\.|[^\\\\\"])*\"?: Starts capturing at a double-quote and stops at the next double-quote unless it was preceded by a backslash in which case it includes it until the next double-quote (tokenized). It will also match unbalanced strings (no ending double-quote) which should be reported as an error. ---- ANDA\n",
    "\n",
    "    ;.*: Captures any sequence of characters starting with ; (tokenized). ---- ANDA\n",
    "\n",
    "    [^\\s\\[\\]{}('\"`,;)]*: Captures a sequence of zero or more non special characters (e.g. symbols, numbers, \"true\", \"false\", and \"nil\") and is sort of the inverse of the one above that captures special characters (tokenized).\n"
   ]
  },
  {
   "cell_type": "code",
   "execution_count": 69,
   "metadata": {},
   "outputs": [],
   "source": [
    "def read_form(tokens:Reader):\n",
    "    tkn = tokens.peek()\n",
    "    if tkn == '(':\n",
    "        t = read_list(tokens)\n",
    "    else: \n",
    "        t = read_atom(tkn)\n",
    "    return t\n",
    "\n",
    "# TODO falta lo q avanza al siguiente token\n",
    "# TODO  The return value from read_form is a mal data type."
   ]
  },
  {
   "cell_type": "code",
   "execution_count": 70,
   "metadata": {},
   "outputs": [],
   "source": [
    "def read_list(tokens):\n",
    "    result = []\n",
    "    tokens.nex() # skips the \"(\" that brought us here\n",
    "    tkn = tokens.peek()\n",
    "    while tkn != ')':\n",
    "        t = read_form(tokens)\n",
    "        result.append(t)\n",
    "        tokens.nex()\n",
    "        tkn = tokens.peek()\n",
    "    return result\n",
    "\n",
    "# TODO poner algo que corte si te olvidas un parentesis de cierre \n",
    "# TODO si pones paren de cierre de mas, los ignora, corregir"
   ]
  },
  {
   "cell_type": "markdown",
   "metadata": {},
   "source": [
    "This function will repeatedly call read_form with the Reader object until it encounters a ')' token (if it reach EOF before reading a ')' then that is an error). It accumulates the results into a List type. If your language does not have a sequential data type that can hold mal type values you may need to implement one (in types.qx). Note that read_list repeatedly calls read_form rather than read_atom. This mutually recursive definition between read_list and read_form is what allows lists to contain lists.\n"
   ]
  },
  {
   "cell_type": "code",
   "execution_count": 71,
   "metadata": {},
   "outputs": [],
   "source": [
    "def read_atom(tok):\n",
    "    try: return int(tok)\n",
    "    except ValueError:\n",
    "        try: return float(tok)\n",
    "        except ValueError:\n",
    "            return str(tok)"
   ]
  },
  {
   "cell_type": "code",
   "execution_count": 72,
   "metadata": {},
   "outputs": [],
   "source": [
    "ghh = read_atom('s')\n"
   ]
  },
  {
   "cell_type": "markdown",
   "metadata": {},
   "source": [
    "#### Tests"
   ]
  },
  {
   "cell_type": "code",
   "execution_count": 85,
   "metadata": {},
   "outputs": [
    {
     "name": "stdout",
     "output_type": "stream",
     "text": [
      "1\n"
     ]
    },
    {
     "ename": "TypeError",
     "evalue": "'int' object is not iterable",
     "output_type": "error",
     "traceback": [
      "\u001b[0;31m-----------------------------------------------------------------------\u001b[0m",
      "\u001b[0;31mTypeError\u001b[0m                             Traceback (most recent call last)",
      "\u001b[0;32m<ipython-input-85-f08f97985835>\u001b[0m in \u001b[0;36m<module>\u001b[0;34m\u001b[0m\n\u001b[1;32m      4\u001b[0m \u001b[0;34m\u001b[0m\u001b[0m\n\u001b[1;32m      5\u001b[0m \u001b[0mprint\u001b[0m\u001b[0;34m(\u001b[0m\u001b[0mresult\u001b[0m\u001b[0;34m)\u001b[0m\u001b[0;34m\u001b[0m\u001b[0;34m\u001b[0m\u001b[0m\n\u001b[0;32m----> 6\u001b[0;31m \u001b[0mpr_str\u001b[0m\u001b[0;34m(\u001b[0m\u001b[0mresult\u001b[0m\u001b[0;34m)\u001b[0m\u001b[0;34m\u001b[0m\u001b[0;34m\u001b[0m\u001b[0m\n\u001b[0m",
      "\u001b[0;32m<ipython-input-83-cb35f93a963c>\u001b[0m in \u001b[0;36mpr_str\u001b[0;34m(tokens)\u001b[0m\n\u001b[1;32m      1\u001b[0m \u001b[0;32mdef\u001b[0m \u001b[0mpr_str\u001b[0m\u001b[0;34m(\u001b[0m\u001b[0mtokens\u001b[0m\u001b[0;34m)\u001b[0m\u001b[0;34m:\u001b[0m\u001b[0;34m\u001b[0m\u001b[0;34m\u001b[0m\u001b[0m\n\u001b[1;32m      2\u001b[0m     \u001b[0mresult\u001b[0m \u001b[0;34m=\u001b[0m \u001b[0;34m[\u001b[0m\u001b[0;34m]\u001b[0m\u001b[0;34m\u001b[0m\u001b[0;34m\u001b[0m\u001b[0m\n\u001b[0;32m----> 3\u001b[0;31m     \u001b[0;32mfor\u001b[0m \u001b[0mt\u001b[0m \u001b[0;32min\u001b[0m \u001b[0mtokens\u001b[0m\u001b[0;34m:\u001b[0m\u001b[0;34m\u001b[0m\u001b[0;34m\u001b[0m\u001b[0m\n\u001b[0m\u001b[1;32m      4\u001b[0m         \u001b[0mtyp\u001b[0m \u001b[0;34m=\u001b[0m \u001b[0mtype\u001b[0m\u001b[0;34m(\u001b[0m\u001b[0mt\u001b[0m\u001b[0;34m)\u001b[0m\u001b[0;34m\u001b[0m\u001b[0;34m\u001b[0m\u001b[0m\n\u001b[1;32m      5\u001b[0m         \u001b[0;32mif\u001b[0m \u001b[0mtyp\u001b[0m \u001b[0;34m==\u001b[0m \u001b[0mlist\u001b[0m\u001b[0;34m:\u001b[0m\u001b[0;34m\u001b[0m\u001b[0;34m\u001b[0m\u001b[0m\n",
      "\u001b[0;31mTypeError\u001b[0m: 'int' object is not iterable"
     ]
    }
   ],
   "source": [
    "my_str = \"1 2 (abc)(ab)\"\n",
    "\n",
    "result = read_str(my_str)\n",
    "\n",
    "print(result)\n",
    "pr_str(result)"
   ]
  },
  {
   "cell_type": "code",
   "execution_count": 105,
   "metadata": {},
   "outputs": [],
   "source": [
    "def pr_str(token):\n",
    "    l = []\n",
    "    if type(token) == list:\n",
    "        for i in token:\n",
    "            l.append(str(i))\n",
    "        l = ' '.join(l)\n",
    "        l = '(' + l + ')'\n",
    "        return l\n",
    "    else:\n",
    "        s = str(t)\n",
    "        result.append(s)\n",
    "    return result\n"
   ]
  },
  {
   "cell_type": "code",
   "execution_count": 110,
   "metadata": {},
   "outputs": [
    {
     "data": {
      "text/plain": [
       "'(4 2 (a))'"
      ]
     },
     "execution_count": 110,
     "metadata": {},
     "output_type": "execute_result"
    }
   ],
   "source": [
    "def pr_str(token):\n",
    "    l = []\n",
    "    if type(token) == list:\n",
    "        for i in token:\n",
    "            l.append(pr_str(i))\n",
    "        l = ' '.join(l)\n",
    "        l = '(' + l + ')'\n",
    "        return l\n",
    "    else:\n",
    "        s = str(token)\n",
    "        return s\n",
    "\n",
    "\n",
    "pr_str([4, 2, ['a']] )"
   ]
  },
  {
   "cell_type": "code",
   "execution_count": null,
   "metadata": {},
   "outputs": [],
   "source": []
  },
  {
   "cell_type": "code",
   "execution_count": null,
   "metadata": {},
   "outputs": [],
   "source": []
  }
 ],
 "metadata": {
  "kernelspec": {
   "display_name": "Python 3",
   "language": "python",
   "name": "python3"
  },
  "language_info": {
   "codemirror_mode": {
    "name": "ipython",
    "version": 3
   },
   "file_extension": ".py",
   "mimetype": "text/x-python",
   "name": "python",
   "nbconvert_exporter": "python",
   "pygments_lexer": "ipython3",
   "version": "3.8.5"
  }
 },
 "nbformat": 4,
 "nbformat_minor": 4
}
