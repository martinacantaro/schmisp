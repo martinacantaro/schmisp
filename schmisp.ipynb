{
 "cells": [
  {
   "cell_type": "markdown",
   "metadata": {},
   "source": [
    "# Step 0\n",
    "## The REPL"
   ]
  },
  {
   "cell_type": "code",
   "execution_count": 121,
   "metadata": {},
   "outputs": [],
   "source": [
    "def READ(program:str) -> str:\n",
    "    r = read_str(program)\n",
    "    return r"
   ]
  },
  {
   "cell_type": "code",
   "execution_count": 122,
   "metadata": {},
   "outputs": [],
   "source": [
    "def EVAL(line):\n",
    "    return line"
   ]
  },
  {
   "cell_type": "code",
   "execution_count": 126,
   "metadata": {},
   "outputs": [],
   "source": [
    "def PRINT(line):\n",
    "    return(pr_str(line))"
   ]
  },
  {
   "cell_type": "code",
   "execution_count": 127,
   "metadata": {},
   "outputs": [],
   "source": [
    "def rep(program):\n",
    "    PRINT(EVAL(READ(program)))"
   ]
  },
  {
   "cell_type": "markdown",
   "metadata": {},
   "source": [
    "#### Tests"
   ]
  },
  {
   "cell_type": "code",
   "execution_count": null,
   "metadata": {},
   "outputs": [],
   "source": []
  },
  {
   "cell_type": "markdown",
   "metadata": {},
   "source": [
    "# Step 1"
   ]
  },
  {
   "cell_type": "code",
   "execution_count": 62,
   "metadata": {},
   "outputs": [],
   "source": [
    "import re\n",
    "\n",
    "r = r'''[\\s,]*(~@|[\\[\\]{}()'`~^@]|\"(?:\\\\.|[^\\\\\"])*\"|;.*|[^\\s\\[\\]{}('\"`,;)]*)'''\n",
    "\n",
    "def tokenize(program:str) -> list:\n",
    "    tkns = re.split(r, program)\n",
    "    tkns_list = []\n",
    "    for t in tkns:\n",
    "        if t != '':\n",
    "            tkns_list.append(t) ### TODO Rever\n",
    "    return tkns_list"
   ]
  },
  {
   "cell_type": "code",
   "execution_count": 61,
   "metadata": {},
   "outputs": [],
   "source": [
    "class Reader:\n",
    "    def __init__(self, tokens):\n",
    "        self.tokens = tokens\n",
    "        self.position = 0\n",
    "        self.length = len(tokens)\n",
    "    def nex(self):\n",
    "        return current_token\n",
    "    def peek(self):\n",
    "        current_token = self.tokens[self.position]\n",
    "        return current_token"
   ]
  },
  {
   "cell_type": "code",
   "execution_count": 80,
   "metadata": {},
   "outputs": [],
   "source": [
    "def read_str(program):\n",
    "    t = tokenize(program)\n",
    "    r = Reader(t)\n",
    "    l = read_form(r)\n",
    "    return l"
   ]
  },
  {
   "cell_type": "code",
   "execution_count": 148,
   "metadata": {},
   "outputs": [],
   "source": [
    "def read_form(tokens:Reader):\n",
    "    tkn = tokens.peek()\n",
    "    l = []\n",
    "    if tkn == '(':\n",
    "        t = read_list(tokens)\n",
    "    else: \n",
    "        t = read_atom(tkn)\n",
    "    return t\n",
    "\n",
    "# TODO falta lo q avanza al siguiente token\n",
    "# TODO  The return value from read_form is a mal data type."
   ]
  },
  {
   "cell_type": "markdown",
   "metadata": {},
   "source": [
    "#### tmb podria ser asi (pero hay que trabajarlo mas)"
   ]
  },
  {
   "cell_type": "code",
   "execution_count": null,
   "metadata": {},
   "outputs": [],
   "source": [
    "def read_form(tokens:Reader):\n",
    "    for i in range(tokens.length):\n",
    "        tkn = tokens.peek()\n",
    "        l = []\n",
    "        if tkn == '(':\n",
    "            t = read_list(tokens)\n",
    "        else: \n",
    "            t = read_atom(tkn)\n",
    "            \n",
    "    return t\n"
   ]
  },
  {
   "cell_type": "code",
   "execution_count": 149,
   "metadata": {},
   "outputs": [],
   "source": [
    "def read_list(tokens):\n",
    "    result = []\n",
    "    tokens.nex() # skips the \"(\" that brought us here\n",
    "    tkn = tokens.peek()\n",
    "    while tkn != ')':\n",
    "        t = read_form(tokens)\n",
    "        result.append(t)\n",
    "        tokens.nex()\n",
    "        tkn = tokens.peek()\n",
    "    return result\n",
    "\n",
    "# TODO poner algo que corte si te olvidas un parentesis de cierre \n",
    "# TODO si pones paren de cierre de mas, los ignora, corregir"
   ]
  },
  {
   "cell_type": "code",
   "execution_count": 150,
   "metadata": {},
   "outputs": [],
   "source": [
    "def read_atom(tok):\n",
    "    try: return int(tok)\n",
    "    except ValueError:\n",
    "        try: return float(tok)\n",
    "        except ValueError:\n",
    "            return str(tok)"
   ]
  },
  {
   "cell_type": "code",
   "execution_count": 151,
   "metadata": {},
   "outputs": [],
   "source": [
    "def pr_str(token):\n",
    "    l = []\n",
    "    if type(token) == list:\n",
    "        for i in token:\n",
    "            l.append(pr_str(i))\n",
    "        l = ' '.join(l)\n",
    "        l = '(' + l + ')'\n",
    "        return l\n",
    "    else:\n",
    "        s = str(token)\n",
    "        return s"
   ]
  },
  {
   "cell_type": "markdown",
   "metadata": {},
   "source": [
    "#### Tests"
   ]
  },
  {
   "cell_type": "code",
   "execution_count": 157,
   "metadata": {},
   "outputs": [
    {
     "name": "stdout",
     "output_type": "stream",
     "text": [
      "1\n"
     ]
    }
   ],
   "source": [
    "my_str = \"1 2 (abc)(ab)\"\n",
    "\n",
    "result = read_form(Reader(tokenize(my_str)))\n",
    "\n",
    "print(result)\n"
   ]
  },
  {
   "cell_type": "code",
   "execution_count": 153,
   "metadata": {},
   "outputs": [
    {
     "data": {
      "text/plain": [
       "'(4 2 (a))'"
      ]
     },
     "execution_count": 153,
     "metadata": {},
     "output_type": "execute_result"
    }
   ],
   "source": [
    "pr_str([4, 2, ['a']] )"
   ]
  },
  {
   "cell_type": "code",
   "execution_count": 154,
   "metadata": {},
   "outputs": [
    {
     "name": "stdout",
     "output_type": "stream",
     "text": [
      "2\n",
      "2\n"
     ]
    }
   ],
   "source": [
    "y = Reader(['hola',  'chimon'])\n",
    "y.length\n",
    "for i in range(y.length):\n",
    "    print(2)"
   ]
  },
  {
   "cell_type": "code",
   "execution_count": null,
   "metadata": {},
   "outputs": [],
   "source": []
  }
 ],
 "metadata": {
  "kernelspec": {
   "display_name": "Python 3",
   "language": "python",
   "name": "python3"
  },
  "language_info": {
   "codemirror_mode": {
    "name": "ipython",
    "version": 3
   },
   "file_extension": ".py",
   "mimetype": "text/x-python",
   "name": "python",
   "nbconvert_exporter": "python",
   "pygments_lexer": "ipython3",
   "version": "3.8.5"
  }
 },
 "nbformat": 4,
 "nbformat_minor": 4
}
