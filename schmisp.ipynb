{
 "cells": [
  {
   "cell_type": "markdown",
   "metadata": {},
   "source": [
    "# Step 0\n",
    "## The REPL"
   ]
  },
  {
   "cell_type": "code",
   "execution_count": 1,
   "metadata": {},
   "outputs": [],
   "source": [
    "def READ(program:str) -> str:\n",
    "    r = read_str(program)\n",
    "    return r"
   ]
  },
  {
   "cell_type": "code",
   "execution_count": 2,
   "metadata": {},
   "outputs": [],
   "source": [
    "def EVAL(line, repl):\n",
    "    return line"
   ]
  },
  {
   "cell_type": "code",
   "execution_count": 3,
   "metadata": {},
   "outputs": [],
   "source": [
    "def PRINT(line):\n",
    "    return(pr_str(line))"
   ]
  },
  {
   "cell_type": "code",
   "execution_count": 4,
   "metadata": {},
   "outputs": [],
   "source": [
    "def rep(program):\n",
    "    rep = PRINT(EVAL(READ(program), repl_env))\n",
    "    return rep"
   ]
  },
  {
   "cell_type": "markdown",
   "metadata": {},
   "source": [
    "# Step 1"
   ]
  },
  {
   "cell_type": "code",
   "execution_count": 5,
   "metadata": {},
   "outputs": [],
   "source": [
    "def read_str(program):\n",
    "    t = tokenize(program)\n",
    "    r = Reader(t)\n",
    "    l = read_form(r)\n",
    "    return l"
   ]
  },
  {
   "cell_type": "code",
   "execution_count": 6,
   "metadata": {},
   "outputs": [],
   "source": [
    "import re\n",
    "\n",
    "r = r'''[\\s,]*(~@|[\\[\\]{}()'`~^@]|\"(?:\\\\.|[^\\\\\"])*\"|;.*|[^\\s\\[\\]{}('\"`,;)]*)'''\n",
    "\n",
    "def tokenize(program:str) -> list:\n",
    "    tkns = re.split(r, program)\n",
    "    tkns_list = []\n",
    "    for t in tkns:\n",
    "        if t != '':\n",
    "            tkns_list.append(t) ### TODO Rever\n",
    "    return tkns_list"
   ]
  },
  {
   "cell_type": "code",
   "execution_count": 7,
   "metadata": {},
   "outputs": [],
   "source": [
    "class Reader:\n",
    "    def __init__(self, tokens):\n",
    "        self.tokens = tokens\n",
    "        self.position = 0\n",
    "        self.length = len(tokens)\n",
    "    def nex(self):\n",
    "        self.position += 1\n",
    "    def peek(self):\n",
    "        current_token = self.tokens[self.position]\n",
    "        return current_token"
   ]
  },
  {
   "cell_type": "code",
   "execution_count": 8,
   "metadata": {},
   "outputs": [],
   "source": [
    "def read_form(tokens:Reader):\n",
    "    tkn = tokens.peek()\n",
    "    l = []\n",
    "    if tkn == '(':\n",
    "        t = read_list(tokens)\n",
    "    else: \n",
    "        t = read_atom(tkn)\n",
    "    return t\n",
    "\n",
    "# TODO  The return value from read_form is a mal data type - averiguar cuales son"
   ]
  },
  {
   "cell_type": "code",
   "execution_count": 9,
   "metadata": {},
   "outputs": [],
   "source": [
    "def read_list(tokens):\n",
    "    result = []\n",
    "    tokens.nex() # skips the \"(\" that brought us here\n",
    "    tkn = tokens.peek()\n",
    "    while tkn != ')':\n",
    "        t = read_form(tokens)\n",
    "        result.append(t)\n",
    "        tokens.nex()\n",
    "        tkn = tokens.peek()\n",
    "    return result\n",
    "\n",
    "# TODO poner algo que corte si te olvidas un parentesis de cierre \n",
    "# https://realpython.com/python-exceptions/#exceptions-versus-syntax-errors\n",
    "#            return \"don't forget to close the parentheses!\"\n",
    "# TODO si pones paren de cierre de mas, los ignora, corregir"
   ]
  },
  {
   "cell_type": "code",
   "execution_count": 10,
   "metadata": {},
   "outputs": [],
   "source": [
    "def read_atom(tok):\n",
    "    try: return int(tok)\n",
    "    except ValueError:\n",
    "        try: return float(tok)\n",
    "        except ValueError:\n",
    "            return str(tok)"
   ]
  },
  {
   "cell_type": "code",
   "execution_count": 11,
   "metadata": {},
   "outputs": [],
   "source": [
    "def pr_str(token): # vuelve del programa a una string\n",
    "    l = []\n",
    "    if type(token) == list:\n",
    "        for i in token:\n",
    "            l.append(pr_str(i))\n",
    "        l = ' '.join(l)\n",
    "        l = '(' + l + ')'\n",
    "        return l\n",
    "    else:\n",
    "        s = str(token)\n",
    "        return s"
   ]
  },
  {
   "cell_type": "markdown",
   "metadata": {},
   "source": [
    "#### Tests"
   ]
  },
  {
   "cell_type": "code",
   "execution_count": 12,
   "metadata": {},
   "outputs": [
    {
     "name": "stdout",
     "output_type": "stream",
     "text": [
      "tokenize test\n",
      "['(', '1.0', '1244', 'ui', '(', 'lolo', 'ab', ')', ')']\n",
      "Reader test\n",
      "reader_form test\n",
      "[1.0, 1244, 'ui', ['lolo', 'ab']]\n",
      "testing read_str, which does all of the above\n",
      "[1.0, 1244, 'ui', ['lolo', 'ab']]\n",
      "testing READ, which just calls read_str\n",
      "[1.0, 1244, 'ui', ['lolo', 'ab']]\n",
      "testing EVAL, which only passes the data\n"
     ]
    },
    {
     "ename": "TypeError",
     "evalue": "EVAL() missing 1 required positional argument: 'repl'",
     "output_type": "error",
     "traceback": [
      "\u001b[0;31m-----------------------------------------------------------------------\u001b[0m",
      "\u001b[0;31mTypeError\u001b[0m                             Traceback (most recent call last)",
      "\u001b[0;32m<ipython-input-12-d547d576df12>\u001b[0m in \u001b[0;36m<module>\u001b[0;34m\u001b[0m\n\u001b[1;32m     25\u001b[0m \u001b[0mprint\u001b[0m\u001b[0;34m(\u001b[0m\u001b[0;34m'testing EVAL, which only passes the data'\u001b[0m\u001b[0;34m)\u001b[0m\u001b[0;34m\u001b[0m\u001b[0;34m\u001b[0m\u001b[0m\n\u001b[1;32m     26\u001b[0m \u001b[0;34m\u001b[0m\u001b[0m\n\u001b[0;32m---> 27\u001b[0;31m \u001b[0mr6\u001b[0m \u001b[0;34m=\u001b[0m \u001b[0mEVAL\u001b[0m\u001b[0;34m(\u001b[0m\u001b[0mREAD\u001b[0m\u001b[0;34m(\u001b[0m\u001b[0mmy_str\u001b[0m\u001b[0;34m)\u001b[0m\u001b[0;34m)\u001b[0m\u001b[0;34m\u001b[0m\u001b[0;34m\u001b[0m\u001b[0m\n\u001b[0m\u001b[1;32m     28\u001b[0m \u001b[0mprint\u001b[0m\u001b[0;34m(\u001b[0m\u001b[0mr6\u001b[0m\u001b[0;34m)\u001b[0m\u001b[0;34m\u001b[0m\u001b[0;34m\u001b[0m\u001b[0m\n\u001b[1;32m     29\u001b[0m \u001b[0;34m\u001b[0m\u001b[0m\n",
      "\u001b[0;31mTypeError\u001b[0m: EVAL() missing 1 required positional argument: 'repl'"
     ]
    }
   ],
   "source": [
    "my_str = \"\"\"(1.0 1244 \n",
    "ui \n",
    "(lolo ab)\n",
    ")\"\"\"\n",
    "\n",
    "print('tokenize test')\n",
    "r1 = tokenize(my_str)\n",
    "print(r1)\n",
    "\n",
    "print('Reader test')\n",
    "r2 = Reader(r1)\n",
    "\n",
    "print('reader_form test')\n",
    "r3 = read_form(r2)\n",
    "print(r3)\n",
    "\n",
    "print('testing read_str, which does all of the above')\n",
    "r4 = read_str(my_str)\n",
    "print(r4)\n",
    "\n",
    "print('testing READ, which just calls read_str')\n",
    "r5 = READ(my_str)\n",
    "print(r5)\n",
    "\n",
    "print('testing EVAL, which only passes the data')\n",
    "\n",
    "r6 = EVAL(READ(my_str))\n",
    "print(r6)\n",
    "\n",
    "print('testing PRINT, which just calls read_str')\n",
    "\n",
    "r7 = PRINT(EVAL(READ(my_str)))\n",
    "print(r6)\n",
    "\n",
    "print('testing rep, which idk why works while the above doesn\\'t')\n",
    "\n",
    "repp = rep(my_str)\n",
    "print(repp)\n"
   ]
  },
  {
   "cell_type": "code",
   "execution_count": null,
   "metadata": {},
   "outputs": [],
   "source": [
    "rep('(abc\\\"def)') # Este test falla\n",
    "\n",
    "rep(\"([+ 1 [+ 2 3]])\")"
   ]
  },
  {
   "cell_type": "markdown",
   "metadata": {},
   "source": [
    "# Step 2"
   ]
  },
  {
   "cell_type": "code",
   "execution_count": 26,
   "metadata": {},
   "outputs": [
    {
     "data": {
      "text/plain": [
       "5"
      ]
     },
     "execution_count": 26,
     "metadata": {},
     "output_type": "execute_result"
    }
   ],
   "source": [
    "import operator as op"
   ]
  },
  {
   "cell_type": "code",
   "execution_count": 28,
   "metadata": {},
   "outputs": [],
   "source": [
    "repl_env = {'+': op.add,\n",
    "            '-': op.sub,\n",
    "            '*': op.mul,\n",
    "            '/': op.truediv}"
   ]
  },
  {
   "cell_type": "code",
   "execution_count": 29,
   "metadata": {},
   "outputs": [],
   "source": [
    "def eval_ast(ast, repl_env): # ast = abstract syntax tree = mal data type\n",
    "    if type(ast) == list:\n",
    "        l = []\n",
    "        for i in ast:\n",
    "            i = EVAL(i, repl_env)\n",
    "            l.append(i)\n",
    "            return l\n",
    "    elif ast in '+-*/':\n",
    "        return repl_env[ast]\n",
    "    else:\n",
    "        return ast"
   ]
  },
  {
   "cell_type": "code",
   "execution_count": 34,
   "metadata": {},
   "outputs": [
    {
     "name": "stdout",
     "output_type": "stream",
     "text": [
      "<built-in function add>\n"
     ]
    }
   ],
   "source": [
    "s = eval_ast('+', repl_env)\n",
    "\n",
    "print(s)"
   ]
  },
  {
   "cell_type": "code",
   "execution_count": null,
   "metadata": {},
   "outputs": [],
   "source": []
  }
 ],
 "metadata": {
  "kernelspec": {
   "display_name": "Python 3",
   "language": "python",
   "name": "python3"
  },
  "language_info": {
   "codemirror_mode": {
    "name": "ipython",
    "version": 3
   },
   "file_extension": ".py",
   "mimetype": "text/x-python",
   "name": "python",
   "nbconvert_exporter": "python",
   "pygments_lexer": "ipython3",
   "version": "3.8.5"
  }
 },
 "nbformat": 4,
 "nbformat_minor": 4
}
