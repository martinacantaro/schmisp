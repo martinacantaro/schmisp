{
 "cells": [
  {
   "cell_type": "markdown",
   "metadata": {},
   "source": [
    "# Step 0\n",
    "## The REPL"
   ]
  },
  {
   "cell_type": "code",
   "execution_count": 1,
   "metadata": {},
   "outputs": [],
   "source": [
    "def READ(program:str) -> str:\n",
    "    return program"
   ]
  },
  {
   "cell_type": "code",
   "execution_count": 2,
   "metadata": {},
   "outputs": [],
   "source": [
    "def EVAL(line:str) -> str:\n",
    "    return line"
   ]
  },
  {
   "cell_type": "code",
   "execution_count": 3,
   "metadata": {},
   "outputs": [],
   "source": [
    "def PRINT(line:str):\n",
    "    print(line)"
   ]
  },
  {
   "cell_type": "code",
   "execution_count": 4,
   "metadata": {},
   "outputs": [],
   "source": [
    "def rep(program):\n",
    "    PRINT(EVAL(READ(program)))"
   ]
  },
  {
   "cell_type": "markdown",
   "metadata": {},
   "source": [
    "#### Tests"
   ]
  },
  {
   "cell_type": "code",
   "execution_count": 5,
   "metadata": {},
   "outputs": [
    {
     "name": "stdout",
     "output_type": "stream",
     "text": [
      ";=>%\n"
     ]
    }
   ],
   "source": [
    "rep(';=>%')"
   ]
  },
  {
   "cell_type": "markdown",
   "metadata": {},
   "source": [
    "# Step 1"
   ]
  },
  {
   "cell_type": "code",
   "execution_count": 6,
   "metadata": {},
   "outputs": [],
   "source": [
    "# Mal types?\n",
    "\n",
    "Symbol = str          \n",
    "List   = list         \n",
    "Number = (int, float)"
   ]
  },
  {
   "cell_type": "markdown",
   "metadata": {},
   "source": [
    "#### Test"
   ]
  },
  {
   "cell_type": "code",
   "execution_count": 7,
   "metadata": {},
   "outputs": [
    {
     "ename": "TypeError",
     "evalue": "'tuple' object is not callable",
     "output_type": "error",
     "traceback": [
      "\u001b[0;31m-----------------------------------------------------------------------\u001b[0m",
      "\u001b[0;31mTypeError\u001b[0m                             Traceback (most recent call last)",
      "\u001b[0;32m<ipython-input-7-b75449d9c832>\u001b[0m in \u001b[0;36m<module>\u001b[0;34m\u001b[0m\n\u001b[0;32m----> 1\u001b[0;31m \u001b[0mdgg\u001b[0m \u001b[0;34m=\u001b[0m \u001b[0mNumber\u001b[0m\u001b[0;34m(\u001b[0m\u001b[0;36m9\u001b[0m\u001b[0;34m)\u001b[0m\u001b[0;34m\u001b[0m\u001b[0;34m\u001b[0m\u001b[0m\n\u001b[0m\u001b[1;32m      2\u001b[0m \u001b[0mtype\u001b[0m\u001b[0;34m(\u001b[0m\u001b[0mdgg\u001b[0m\u001b[0;34m)\u001b[0m\u001b[0;34m\u001b[0m\u001b[0;34m\u001b[0m\u001b[0m\n",
      "\u001b[0;31mTypeError\u001b[0m: 'tuple' object is not callable"
     ]
    }
   ],
   "source": [
    "dgg = Number(9)\n",
    "type(dgg)"
   ]
  },
  {
   "cell_type": "code",
   "execution_count": 8,
   "metadata": {},
   "outputs": [],
   "source": [
    "def read_str():\n",
    "    tokens = tokenize(program)\n",
    "    reader = Reader(tokens)\n",
    "    read_form(reader)"
   ]
  },
  {
   "cell_type": "code",
   "execution_count": 20,
   "metadata": {},
   "outputs": [],
   "source": [
    "class Reader:\n",
    "    def __init__(self, tokens):\n",
    "        self.tokens = tokens\n",
    "        self.position = 0\n",
    "        self.length = len(tokens)\n",
    "    def nex(self):\n",
    "        pos = self.position\n",
    "        current_token = self.tokens[self.position]\n",
    "        self.position += 1\n",
    "        return current_token\n",
    "    def peek(self):\n",
    "        pos = self.position\n",
    "        current_token = self.tokens[self.position]\n",
    "        return current_token"
   ]
  },
  {
   "cell_type": "code",
   "execution_count": 21,
   "metadata": {},
   "outputs": [],
   "source": [
    "import re\n",
    "\n",
    "r = r'''[\\s,]*(~@|[\\[\\]{}()'`~^@]|\"(?:\\\\.|[^\\\\\"])*\"|;.*|[^\\s\\[\\]{}('\"`,;)]*)'''\n",
    "\n",
    "def tokenize(program:str) -> list:\n",
    "    tkns = re.split(r, program)\n",
    "    tkns_list = []\n",
    "    for t in tkns:\n",
    "        if t != '':\n",
    "            tkns_list.append(t) ### ESTO ESTA MAL\n",
    "    return tkns_list"
   ]
  },
  {
   "cell_type": "markdown",
   "metadata": {},
   "source": [
    "#### Tests"
   ]
  },
  {
   "cell_type": "code",
   "execution_count": 22,
   "metadata": {},
   "outputs": [
    {
     "data": {
      "text/plain": [
       "['(', '+', '2', '(', '*', '3', '4', ')', ')']"
      ]
     },
     "execution_count": 22,
     "metadata": {},
     "output_type": "execute_result"
    }
   ],
   "source": [
    "t = tokenize('( + 2 (* 3 4))')\n",
    "\n",
    "t"
   ]
  },
  {
   "cell_type": "markdown",
   "metadata": {},
   "source": [
    "tokenize\n",
    "\n",
    "    [\\s,]*: Matches any number of whitespaces or commas. This is not captured so it will be ignored and not tokenized. --- ANDA PERO ESTA MAL\n",
    "\n",
    "    ~@: Captures the special two-characters ~@ (tokenized). ---- ANDA\n",
    "\n",
    "    [\\[\\]{}()'`~^@]: Captures any special single character, one of []{}()'`~^@ (tokenized). ---- NO ANDA LOS PONE TODOS JUNTOS\n",
    "\n",
    "    \"(?:\\\\.|[^\\\\\"])*\"?: Starts capturing at a double-quote and stops at the next double-quote unless it was preceded by a backslash in which case it includes it until the next double-quote (tokenized). It will also match unbalanced strings (no ending double-quote) which should be reported as an error. ---- ANDA\n",
    "\n",
    "    ;.*: Captures any sequence of characters starting with ; (tokenized). ---- ANDA\n",
    "\n",
    "    [^\\s\\[\\]{}('\"`,;)]*: Captures a sequence of zero or more non special characters (e.g. symbols, numbers, \"true\", \"false\", and \"nil\") and is sort of the inverse of the one above that captures special characters (tokenized).\n"
   ]
  },
  {
   "cell_type": "code",
   "execution_count": 23,
   "metadata": {},
   "outputs": [],
   "source": [
    "def read_form(tokens:Reader):\n",
    "    tkn = tokens.peek()\n",
    "    if tkn == '(':\n",
    "        tokens.nex()\n",
    "        t = read_list(tokens)\n",
    "    else: \n",
    "        t = read_atom(tkn)\n",
    "    return t\n",
    "\n",
    "\n",
    "# TODO  The return value from read_form is a mal data type."
   ]
  },
  {
   "cell_type": "code",
   "execution_count": 24,
   "metadata": {},
   "outputs": [],
   "source": [
    "def read_list(tokens):\n",
    "    result = []\n",
    "    tkn = tokens.peek()\n",
    "    while tkn != ')':\n",
    "        t = read_form(tokens)\n",
    "        result.append(t)\n",
    "        tkn = tokens.nex()\n",
    "    return result\n",
    "\n",
    "# TODO poner algo que corte si te olvidas un parentesis de cierre \n",
    "# TODO si pones paren de cierre de mas, los ignora, corregir"
   ]
  },
  {
   "cell_type": "markdown",
   "metadata": {},
   "source": [
    "This function will repeatedly call read_form with the Reader object until it encounters a ')' token (if it reach EOF before reading a ')' then that is an error). It accumulates the results into a List type. If your language does not have a sequential data type that can hold mal type values you may need to implement one (in types.qx). Note that read_list repeatedly calls read_form rather than read_atom. This mutually recursive definition between read_list and read_form is what allows lists to contain lists.\n"
   ]
  },
  {
   "cell_type": "code",
   "execution_count": 25,
   "metadata": {},
   "outputs": [],
   "source": [
    "def read_atom(char):\n",
    "    \"Numbers become numbers; every other token is a symbol.\"\n",
    "    try: return int(char)\n",
    "    except ValueError:\n",
    "        try: return float(char)\n",
    "        except ValueError:\n",
    "            return str(char)"
   ]
  },
  {
   "cell_type": "code",
   "execution_count": 26,
   "metadata": {},
   "outputs": [],
   "source": [
    "ghh = read_atom('s')\n"
   ]
  },
  {
   "cell_type": "markdown",
   "metadata": {},
   "source": [
    "#### Tests"
   ]
  },
  {
   "cell_type": "code",
   "execution_count": 30,
   "metadata": {},
   "outputs": [
    {
     "name": "stdout",
     "output_type": "stream",
     "text": [
      "['a', 'b', [1, ' ', 2, ')']]\n"
     ]
    }
   ],
   "source": [
    "my_str = \"(ab(1 2)))))\"\n",
    "\n",
    "my_tok = Reader(my_str)\n",
    "result = read_form(my_tok)\n",
    "\n",
    "print(result)"
   ]
  },
  {
   "cell_type": "code",
   "execution_count": null,
   "metadata": {},
   "outputs": [],
   "source": []
  },
  {
   "cell_type": "code",
   "execution_count": null,
   "metadata": {},
   "outputs": [],
   "source": []
  },
  {
   "cell_type": "code",
   "execution_count": null,
   "metadata": {},
   "outputs": [],
   "source": []
  }
 ],
 "metadata": {
  "kernelspec": {
   "display_name": "Python 3",
   "language": "python",
   "name": "python3"
  },
  "language_info": {
   "codemirror_mode": {
    "name": "ipython",
    "version": 3
   },
   "file_extension": ".py",
   "mimetype": "text/x-python",
   "name": "python",
   "nbconvert_exporter": "python",
   "pygments_lexer": "ipython3",
   "version": "3.8.5"
  }
 },
 "nbformat": 4,
 "nbformat_minor": 4
}
