{
 "cells": [
  {
   "cell_type": "markdown",
   "metadata": {},
   "source": [
    "# LISP compiler"
   ]
  },
  {
   "cell_type": "code",
   "execution_count": 6,
   "metadata": {},
   "outputs": [],
   "source": [
    "import re\n",
    "import operator as op\n",
    "\n",
    "def READ(program:str) -> str:\n",
    "    r = read_str(program)\n",
    "    return r\n",
    "\n",
    "def EVAL(ast, env):\n",
    "    if ast == []:\n",
    "        return ast\n",
    "    elif type(ast) == list:\n",
    "        if ast[0] == 'def!': \n",
    "            s = ast[1] #symbol\n",
    "            v = eval_ast(ast[2], env) #value\n",
    "            r = env.set(s, v)\n",
    "            return r        \n",
    "        e = eval_ast(ast, env) \n",
    "        o = e[0] # the first element is the operator (ie +)\n",
    "        p = e[1::] # the rest are parameters (ie integers)\n",
    "        return o(*p) # passes the parameters to the operator\n",
    "    else:\n",
    "        return eval_ast(ast, env)\n",
    "    return line\n",
    "\n",
    "def PRINT(line):\n",
    "    return(pr_str(line))\n",
    "\n",
    "def rep(program):\n",
    "    rep = PRINT(EVAL(READ(program), repl_env))\n",
    "    return rep\n",
    "\n",
    "def read_str(program):\n",
    "    t = tokenize(program)\n",
    "    r = Reader(t)\n",
    "    l = read_form(r)\n",
    "    return l\n",
    "\n",
    "r = r'''[\\s,]*(~@|[\\[\\]{}()'`~^@]|\"(?:\\\\.|[^\\\\\"])*\"|;.*|[^\\s\\[\\]{}('\"`,;)]*)'''\n",
    "\n",
    "def tokenize(program:str) -> list:\n",
    "    tkns = re.split(r, program)\n",
    "    tkns_list = []\n",
    "    for t in tkns:\n",
    "        if t != '':\n",
    "            tkns_list.append(t) \n",
    "    return tkns_list\n",
    "\n",
    "\n",
    "class Reader:\n",
    "    def __init__(self, tokens):\n",
    "        self.tokens = tokens\n",
    "        self.position = 0\n",
    "        self.length = len(tokens)\n",
    "    def nex(self):\n",
    "        self.position += 1\n",
    "    def peek(self):\n",
    "        current_token = self.tokens[self.position]\n",
    "        return current_token\n",
    "    \n",
    "def read_form(tokens:Reader):\n",
    "    tkn = tokens.peek()\n",
    "    l = []\n",
    "    if tkn == '(':\n",
    "        t = read_list(tokens)\n",
    "    else: \n",
    "        t = read_atom(tkn)\n",
    "    return t\n",
    "\n",
    "def read_list(tokens):\n",
    "    result = []\n",
    "    tokens.nex() # skips the \"(\" that brought us here\n",
    "    tkn = tokens.peek()\n",
    "    while tkn != ')':\n",
    "        t = read_form(tokens)\n",
    "        result.append(t)\n",
    "        tokens.nex()\n",
    "        tkn = tokens.peek()\n",
    "    return result\n",
    "\n",
    "def read_atom(token):\n",
    "    try: return int(token)\n",
    "    except ValueError:\n",
    "        try: return float(token)\n",
    "        except ValueError:\n",
    "            return str(token)\n",
    "        \n",
    "def pr_str(token): # turns the program back into a string\n",
    "    l = []\n",
    "    if type(token) == list:\n",
    "        for i in token:\n",
    "            l.append(pr_str(i))\n",
    "        l = ' '.join(l)\n",
    "        l = '(' + l + ')'\n",
    "        return l\n",
    "    else:\n",
    "        s = str(token)\n",
    "        return s\n",
    "    \n",
    "def eval_ast(ast, env): # ast = abstract syntax tree = mal data type\n",
    "    if type(ast) == list:\n",
    "        l = []\n",
    "        for i in ast:\n",
    "            i = EVAL(i, env)\n",
    "            l.append(i)\n",
    "        return l\n",
    "    elif type(ast) == str:\n",
    "        return env.get(ast)\n",
    "    else:\n",
    "        return ast\n",
    "\n",
    "class Env:\n",
    "    def __init__(self, outer):\n",
    "        self.outer = outer\n",
    "        self.data = {}\n",
    "    def set(self, symbol, mal_value):\n",
    "        self.data[symbol] = mal_value\n",
    "    def find(self, symbol):\n",
    "        if symbol in self.data:\n",
    "            return self.data\n",
    "        elif self.outer is not None:\n",
    "            return self.outer.find(symbol)\n",
    "    def get(self, symbol):\n",
    "        env_with_symbol = self.find(symbol)\n",
    "        value = env_with_symbol[symbol]\n",
    "        return value #  TODO If no key is found up the outer chain, then throws/raises a \"not found\" error.\n",
    "    \n",
    "repl_env = Env(None)\n",
    "\n",
    "repl_env.set('+', op.add)\n",
    "repl_env.set('-', op.sub)\n",
    "repl_env.set('*', op.mul)\n",
    "repl_env.set('/', op.truediv)\n"
   ]
  },
  {
   "cell_type": "code",
   "execution_count": 12,
   "metadata": {},
   "outputs": [
    {
     "data": {
      "text/plain": [
       "'5'"
      ]
     },
     "execution_count": 12,
     "metadata": {},
     "output_type": "execute_result"
    }
   ],
   "source": [
    "program1 = '(+ 2 3)'\n",
    "\n",
    "rep(program1)"
   ]
  },
  {
   "cell_type": "code",
   "execution_count": 18,
   "metadata": {},
   "outputs": [
    {
     "data": {
      "text/plain": [
       "'1815.0'"
      ]
     },
     "execution_count": 18,
     "metadata": {},
     "output_type": "execute_result"
    }
   ],
   "source": [
    "program2 = '(+ 1500 (/ (* 21 1500) 100))' # calculate 1500 + IVA\n",
    "rep(program2)"
   ]
  },
  {
   "cell_type": "code",
   "execution_count": 11,
   "metadata": {},
   "outputs": [
    {
     "data": {
      "text/plain": [
       "'36'"
      ]
     },
     "execution_count": 11,
     "metadata": {},
     "output_type": "execute_result"
    }
   ],
   "source": [
    "repl_env.set('**', op.pow)  #two asterisks now means power\n",
    "\n",
    "program = '(** 6 2)'\n",
    "rep(program)"
   ]
  },
  {
   "cell_type": "code",
   "execution_count": null,
   "metadata": {},
   "outputs": [],
   "source": []
  }
 ],
 "metadata": {
  "kernelspec": {
   "display_name": "Python 3",
   "language": "python",
   "name": "python3"
  },
  "language_info": {
   "codemirror_mode": {
    "name": "ipython",
    "version": 3
   },
   "file_extension": ".py",
   "mimetype": "text/x-python",
   "name": "python",
   "nbconvert_exporter": "python",
   "pygments_lexer": "ipython3",
   "version": "3.8.5"
  }
 },
 "nbformat": 4,
 "nbformat_minor": 4
}
